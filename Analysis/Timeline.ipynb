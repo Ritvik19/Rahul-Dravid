{
 "cells": [
  {
   "cell_type": "code",
   "execution_count": 1,
   "metadata": {
    "ExecuteTime": {
     "end_time": "2019-07-27T06:29:20.114212Z",
     "start_time": "2019-07-27T06:29:19.064020Z"
    }
   },
   "outputs": [],
   "source": [
    "import pandas as pd"
   ]
  },
  {
   "cell_type": "code",
   "execution_count": 2,
   "metadata": {
    "ExecuteTime": {
     "end_time": "2019-07-27T06:29:20.126180Z",
     "start_time": "2019-07-27T06:29:20.120195Z"
    }
   },
   "outputs": [],
   "source": [
    "pd.options.display.max_colwidth = -1"
   ]
  },
  {
   "cell_type": "code",
   "execution_count": 3,
   "metadata": {
    "ExecuteTime": {
     "end_time": "2019-07-27T06:29:20.256830Z",
     "start_time": "2019-07-27T06:29:20.130169Z"
    }
   },
   "outputs": [],
   "source": [
    "awards = \"\"\"1998 - Arjuna Award recipient for achievements in cricket\n",
    "2004 - Padma Shri – India's fourth highest civilian award\n",
    "2013 - Padma Bhushan – India's third highest civilian award\n",
    "1999 - CEAT International Cricketer of the World Cup\n",
    "2000 - Dravid was one of the five cricketers selected as Wisden Cricketer of the Year\n",
    "2004 - ICC Cricketer of the year – Highest award in the ICC listings\n",
    "2004 - ICC Test Player of The Year, ICC Cricketer of The Year MTV Youth Icon of the Year\n",
    "2006 - Captain of the ICC's Test Team\n",
    "2011 - NDTV Indian of the Year's Lifetime Achievement Award with Dev Anand\n",
    "2012 - Don Bradman Award with Glenn McGrath\n",
    "2015 - Wisden India's Highest Impact Test Batsman\n",
    "2018 - ICC Hall of Fame\"\"\".split('\\n')"
   ]
  },
  {
   "cell_type": "code",
   "execution_count": 4,
   "metadata": {
    "ExecuteTime": {
     "end_time": "2019-07-27T06:29:20.392468Z",
     "start_time": "2019-07-27T06:29:20.260821Z"
    }
   },
   "outputs": [],
   "source": [
    "year = []\n",
    "milestone = []\n",
    "for a in awards:\n",
    "    x, y = a.split(' - ')\n",
    "    year.append(x)\n",
    "    milestone.append(y)"
   ]
  },
  {
   "cell_type": "code",
   "execution_count": 5,
   "metadata": {
    "ExecuteTime": {
     "end_time": "2019-07-27T06:29:20.527107Z",
     "start_time": "2019-07-27T06:29:20.395461Z"
    }
   },
   "outputs": [],
   "source": [
    "awards = pd.DataFrame({'Year': year, 'Milestone':milestone}).sort_values(by='Year', ascending=False).reset_index(drop=True)"
   ]
  },
  {
   "cell_type": "code",
   "execution_count": 6,
   "metadata": {
    "ExecuteTime": {
     "end_time": "2019-07-27T06:29:20.664740Z",
     "start_time": "2019-07-27T06:29:20.530100Z"
    }
   },
   "outputs": [
    {
     "data": {
      "text/html": [
       "<div>\n",
       "<style scoped>\n",
       "    .dataframe tbody tr th:only-of-type {\n",
       "        vertical-align: middle;\n",
       "    }\n",
       "\n",
       "    .dataframe tbody tr th {\n",
       "        vertical-align: top;\n",
       "    }\n",
       "\n",
       "    .dataframe thead th {\n",
       "        text-align: right;\n",
       "    }\n",
       "</style>\n",
       "<table border=\"1\" class=\"dataframe\">\n",
       "  <thead>\n",
       "    <tr style=\"text-align: right;\">\n",
       "      <th></th>\n",
       "      <th>Year</th>\n",
       "      <th>Milestone</th>\n",
       "    </tr>\n",
       "  </thead>\n",
       "  <tbody>\n",
       "    <tr>\n",
       "      <th>0</th>\n",
       "      <td>2018</td>\n",
       "      <td>ICC Hall of Fame</td>\n",
       "    </tr>\n",
       "    <tr>\n",
       "      <th>1</th>\n",
       "      <td>2015</td>\n",
       "      <td>Wisden India's Highest Impact Test Batsman</td>\n",
       "    </tr>\n",
       "    <tr>\n",
       "      <th>2</th>\n",
       "      <td>2013</td>\n",
       "      <td>Padma Bhushan – India's third highest civilian award</td>\n",
       "    </tr>\n",
       "    <tr>\n",
       "      <th>3</th>\n",
       "      <td>2012</td>\n",
       "      <td>Don Bradman Award with Glenn McGrath</td>\n",
       "    </tr>\n",
       "    <tr>\n",
       "      <th>4</th>\n",
       "      <td>2011</td>\n",
       "      <td>NDTV Indian of the Year's Lifetime Achievement Award with Dev Anand</td>\n",
       "    </tr>\n",
       "    <tr>\n",
       "      <th>5</th>\n",
       "      <td>2006</td>\n",
       "      <td>Captain of the ICC's Test Team</td>\n",
       "    </tr>\n",
       "    <tr>\n",
       "      <th>6</th>\n",
       "      <td>2004</td>\n",
       "      <td>Padma Shri – India's fourth highest civilian award</td>\n",
       "    </tr>\n",
       "    <tr>\n",
       "      <th>7</th>\n",
       "      <td>2004</td>\n",
       "      <td>ICC Cricketer of the year – Highest award in the ICC listings</td>\n",
       "    </tr>\n",
       "    <tr>\n",
       "      <th>8</th>\n",
       "      <td>2004</td>\n",
       "      <td>ICC Test Player of The Year, ICC Cricketer of The Year MTV Youth Icon of the Year</td>\n",
       "    </tr>\n",
       "    <tr>\n",
       "      <th>9</th>\n",
       "      <td>2000</td>\n",
       "      <td>Dravid was one of the five cricketers selected as Wisden Cricketer of the Year</td>\n",
       "    </tr>\n",
       "    <tr>\n",
       "      <th>10</th>\n",
       "      <td>1999</td>\n",
       "      <td>CEAT International Cricketer of the World Cup</td>\n",
       "    </tr>\n",
       "    <tr>\n",
       "      <th>11</th>\n",
       "      <td>1998</td>\n",
       "      <td>Arjuna Award recipient for achievements in cricket</td>\n",
       "    </tr>\n",
       "  </tbody>\n",
       "</table>\n",
       "</div>"
      ],
      "text/plain": [
       "    Year  \\\n",
       "0   2018   \n",
       "1   2015   \n",
       "2   2013   \n",
       "3   2012   \n",
       "4   2011   \n",
       "5   2006   \n",
       "6   2004   \n",
       "7   2004   \n",
       "8   2004   \n",
       "9   2000   \n",
       "10  1999   \n",
       "11  1998   \n",
       "\n",
       "                                                                            Milestone  \n",
       "0   ICC Hall of Fame                                                                   \n",
       "1   Wisden India's Highest Impact Test Batsman                                         \n",
       "2   Padma Bhushan – India's third highest civilian award                               \n",
       "3   Don Bradman Award with Glenn McGrath                                               \n",
       "4   NDTV Indian of the Year's Lifetime Achievement Award with Dev Anand                \n",
       "5   Captain of the ICC's Test Team                                                     \n",
       "6   Padma Shri – India's fourth highest civilian award                                 \n",
       "7   ICC Cricketer of the year – Highest award in the ICC listings                      \n",
       "8   ICC Test Player of The Year, ICC Cricketer of The Year MTV Youth Icon of the Year  \n",
       "9   Dravid was one of the five cricketers selected as Wisden Cricketer of the Year     \n",
       "10  CEAT International Cricketer of the World Cup                                      \n",
       "11  Arjuna Award recipient for achievements in cricket                                 "
      ]
     },
     "execution_count": 6,
     "metadata": {},
     "output_type": "execute_result"
    }
   ],
   "source": [
    "awards"
   ]
  },
  {
   "cell_type": "code",
   "execution_count": 7,
   "metadata": {
    "ExecuteTime": {
     "end_time": "2019-07-27T06:29:20.896122Z",
     "start_time": "2019-07-27T06:29:20.669726Z"
    }
   },
   "outputs": [],
   "source": [
    "awards.to_json('../data/Awards.json')"
   ]
  },
  {
   "cell_type": "code",
   "execution_count": null,
   "metadata": {},
   "outputs": [],
   "source": []
  }
 ],
 "metadata": {
  "kernelspec": {
   "display_name": "Python 3",
   "language": "python",
   "name": "python3"
  },
  "language_info": {
   "codemirror_mode": {
    "name": "ipython",
    "version": 3
   },
   "file_extension": ".py",
   "mimetype": "text/x-python",
   "name": "python",
   "nbconvert_exporter": "python",
   "pygments_lexer": "ipython3",
   "version": "3.7.3"
  },
  "toc": {
   "base_numbering": 1,
   "nav_menu": {},
   "number_sections": true,
   "sideBar": true,
   "skip_h1_title": false,
   "title_cell": "Table of Contents",
   "title_sidebar": "Contents",
   "toc_cell": false,
   "toc_position": {},
   "toc_section_display": true,
   "toc_window_display": false
  },
  "varInspector": {
   "cols": {
    "lenName": 16,
    "lenType": 16,
    "lenVar": 40
   },
   "kernels_config": {
    "python": {
     "delete_cmd_postfix": "",
     "delete_cmd_prefix": "del ",
     "library": "var_list.py",
     "varRefreshCmd": "print(var_dic_list())"
    },
    "r": {
     "delete_cmd_postfix": ") ",
     "delete_cmd_prefix": "rm(",
     "library": "var_list.r",
     "varRefreshCmd": "cat(var_dic_list()) "
    }
   },
   "types_to_exclude": [
    "module",
    "function",
    "builtin_function_or_method",
    "instance",
    "_Feature"
   ],
   "window_display": false
  }
 },
 "nbformat": 4,
 "nbformat_minor": 2
}
