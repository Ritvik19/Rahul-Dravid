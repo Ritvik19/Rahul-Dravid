{
 "cells": [
  {
   "cell_type": "code",
   "execution_count": 1,
   "metadata": {
    "ExecuteTime": {
     "end_time": "2019-07-27T06:29:20.114212Z",
     "start_time": "2019-07-27T06:29:19.064020Z"
    }
   },
   "outputs": [],
   "source": [
    "import pandas as pd"
   ]
  },
  {
   "cell_type": "code",
   "execution_count": 2,
   "metadata": {
    "ExecuteTime": {
     "end_time": "2019-07-27T06:29:20.126180Z",
     "start_time": "2019-07-27T06:29:20.120195Z"
    }
   },
   "outputs": [],
   "source": [
    "pd.options.display.max_colwidth = -1"
   ]
  },
  {
   "cell_type": "code",
   "execution_count": 3,
   "metadata": {
    "ExecuteTime": {
     "end_time": "2019-07-27T06:29:20.256830Z",
     "start_time": "2019-07-27T06:29:20.130169Z"
    }
   },
   "outputs": [],
   "source": [
    "awards = \"\"\"1998 - Arjuna Award recipient for achievements in cricket\n",
    "2004 - Padma Shri – India's fourth highest civilian award\n",
    "2013 - Padma Bhushan – India's third highest civilian award\n",
    "1999 - CEAT International Cricketer of the World Cup\n",
    "2000 - Dravid was one of the five cricketers selected as Wisden Cricketer of the Year\n",
    "2004 - ICC Cricketer of the year – Highest award in the ICC listings\n",
    "2004 - ICC Test Player of The Year, ICC Cricketer of The Year MTV Youth Icon of the Year\n",
    "2006 - Captain of the ICC's Test Team\n",
    "2011 - NDTV Indian of the Year's Lifetime Achievement Award with Dev Anand\n",
    "2012 - Don Bradman Award with Glenn McGrath\n",
    "2015 - Wisden India's Highest Impact Test Batsman\n",
    "2018 - ICC Hall of Fame\"\"\".split('\\n')"
   ]
  },
  {
   "cell_type": "code",
   "execution_count": 4,
   "metadata": {
    "ExecuteTime": {
     "end_time": "2019-07-27T06:29:20.392468Z",
     "start_time": "2019-07-27T06:29:20.260821Z"
    }
   },
   "outputs": [],
   "source": [
    "year = []\n",
    "milestone = []\n",
    "for a in awards:\n",
    "    x, y = a.split(' - ')\n",
    "    year.append(x)\n",
    "    milestone.append(y)"
   ]
  },
  {
   "cell_type": "code",
   "execution_count": 5,
   "metadata": {
    "ExecuteTime": {
     "end_time": "2019-07-27T06:29:20.527107Z",
     "start_time": "2019-07-27T06:29:20.395461Z"
    }
   },
   "outputs": [],
   "source": [
    "awards = pd.DataFrame({'Year': year, 'Milestone':milestone}).sort_values(by='Year', ascending=False).reset_index(drop=True)"
   ]
  },
  {
   "cell_type": "code",
   "execution_count": 6,
   "metadata": {
    "ExecuteTime": {
     "end_time": "2019-07-27T06:29:20.664740Z",
     "start_time": "2019-07-27T06:29:20.530100Z"
    }
   },
   "outputs": [
    {
     "data": {
      "text/html": [
       "<div>\n",
       "<style scoped>\n",
       "    .dataframe tbody tr th:only-of-type {\n",
       "        vertical-align: middle;\n",
       "    }\n",
       "\n",
       "    .dataframe tbody tr th {\n",
       "        vertical-align: top;\n",
       "    }\n",
       "\n",
       "    .dataframe thead th {\n",
       "        text-align: right;\n",
       "    }\n",
       "</style>\n",
       "<table border=\"1\" class=\"dataframe\">\n",
       "  <thead>\n",
       "    <tr style=\"text-align: right;\">\n",
       "      <th></th>\n",
       "      <th>Year</th>\n",
       "      <th>Milestone</th>\n",
       "    </tr>\n",
       "  </thead>\n",
       "  <tbody>\n",
       "    <tr>\n",
       "      <th>0</th>\n",
       "      <td>2018</td>\n",
       "      <td>ICC Hall of Fame</td>\n",
       "    </tr>\n",
       "    <tr>\n",
       "      <th>1</th>\n",
       "      <td>2015</td>\n",
       "      <td>Wisden India's Highest Impact Test Batsman</td>\n",
       "    </tr>\n",
       "    <tr>\n",
       "      <th>2</th>\n",
       "      <td>2013</td>\n",
       "      <td>Padma Bhushan – India's third highest civilian award</td>\n",
       "    </tr>\n",
       "    <tr>\n",
       "      <th>3</th>\n",
       "      <td>2012</td>\n",
       "      <td>Don Bradman Award with Glenn McGrath</td>\n",
       "    </tr>\n",
       "    <tr>\n",
       "      <th>4</th>\n",
       "      <td>2011</td>\n",
       "      <td>NDTV Indian of the Year's Lifetime Achievement Award with Dev Anand</td>\n",
       "    </tr>\n",
       "    <tr>\n",
       "      <th>5</th>\n",
       "      <td>2006</td>\n",
       "      <td>Captain of the ICC's Test Team</td>\n",
       "    </tr>\n",
       "    <tr>\n",
       "      <th>6</th>\n",
       "      <td>2004</td>\n",
       "      <td>Padma Shri – India's fourth highest civilian award</td>\n",
       "    </tr>\n",
       "    <tr>\n",
       "      <th>7</th>\n",
       "      <td>2004</td>\n",
       "      <td>ICC Cricketer of the year – Highest award in the ICC listings</td>\n",
       "    </tr>\n",
       "    <tr>\n",
       "      <th>8</th>\n",
       "      <td>2004</td>\n",
       "      <td>ICC Test Player of The Year, ICC Cricketer of The Year MTV Youth Icon of the Year</td>\n",
       "    </tr>\n",
       "    <tr>\n",
       "      <th>9</th>\n",
       "      <td>2000</td>\n",
       "      <td>Dravid was one of the five cricketers selected as Wisden Cricketer of the Year</td>\n",
       "    </tr>\n",
       "    <tr>\n",
       "      <th>10</th>\n",
       "      <td>1999</td>\n",
       "      <td>CEAT International Cricketer of the World Cup</td>\n",
       "    </tr>\n",
       "    <tr>\n",
       "      <th>11</th>\n",
       "      <td>1998</td>\n",
       "      <td>Arjuna Award recipient for achievements in cricket</td>\n",
       "    </tr>\n",
       "  </tbody>\n",
       "</table>\n",
       "</div>"
      ],
      "text/plain": [
       "    Year  \\\n",
       "0   2018   \n",
       "1   2015   \n",
       "2   2013   \n",
       "3   2012   \n",
       "4   2011   \n",
       "5   2006   \n",
       "6   2004   \n",
       "7   2004   \n",
       "8   2004   \n",
       "9   2000   \n",
       "10  1999   \n",
       "11  1998   \n",
       "\n",
       "                                                                            Milestone  \n",
       "0   ICC Hall of Fame                                                                   \n",
       "1   Wisden India's Highest Impact Test Batsman                                         \n",
       "2   Padma Bhushan – India's third highest civilian award                               \n",
       "3   Don Bradman Award with Glenn McGrath                                               \n",
       "4   NDTV Indian of the Year's Lifetime Achievement Award with Dev Anand                \n",
       "5   Captain of the ICC's Test Team                                                     \n",
       "6   Padma Shri – India's fourth highest civilian award                                 \n",
       "7   ICC Cricketer of the year – Highest award in the ICC listings                      \n",
       "8   ICC Test Player of The Year, ICC Cricketer of The Year MTV Youth Icon of the Year  \n",
       "9   Dravid was one of the five cricketers selected as Wisden Cricketer of the Year     \n",
       "10  CEAT International Cricketer of the World Cup                                      \n",
       "11  Arjuna Award recipient for achievements in cricket                                 "
      ]
     },
     "execution_count": 6,
     "metadata": {},
     "output_type": "execute_result"
    }
   ],
   "source": [
    "awards"
   ]
  },
  {
   "cell_type": "code",
   "execution_count": 7,
   "metadata": {
    "ExecuteTime": {
     "end_time": "2019-07-27T06:29:20.896122Z",
     "start_time": "2019-07-27T06:29:20.669726Z"
    }
   },
   "outputs": [],
   "source": [
    "awards.to_json('../data/Awards.json')"
   ]
  },
  {
   "cell_type": "code",
   "execution_count": null,
   "metadata": {},
   "outputs": [],
   "source": [
    "milestone=\"\"\"\n",
    "Scored 82 on first-class debut for Karnataka against Maharashtra.\n",
    "Made his ODI debut against Sri Lanka at Singapore scoring just three runs in an Indian win.\n",
    "Made 95 on Test debut against England at Lord’s batting at No. 7.\n",
    "Scored his first Test century (148) against South Africa at Johannesburg.\n",
    "Scored his first ODI century (107) against Pakistan at Chennai.\n",
    "Finished the ICC ODI World Cup held in England as the leading run-getter with 461 runs.\n",
    "Featured in first-ever 300-partnership in ODIs with a 318-run stand for the second wicket with Sourav Ganguly against Sri Lanka at Taunton.\n",
    "Recorded the highest ever partnership in ODIs with a 331-run stand for the second wicket with Sachin Tendulkar against New Zealand. Dravid also posted his highest ODI score of 153 during this partnership. Became the only player to feature in TWO triple-century partnerships in ODIs.\n",
    "Named one of the Top 5 Wisden Cricketers of the Year.\n",
    "Joined English county side Kent and topped the club’s averages with 1,039 runs at 49.47.\n",
    "Scored his first double-ton (200*) in Tests against Zimbabwe at Delhi.\n",
    "Became the only Indian to score four Test centuries on the trot with innings of 115, 148, 217 and 100* against England (first three) and West Indies (last) respectively.\n",
    "Posted match-winning innings of 233 & 72* in the Adelaide Test to give India their first Test victory in Australia in 23 years.\n",
    "Batted for 120 consecutive innings without a duck between 1999 and 2004 – a record for any batsman in ODIs.\n",
    "Batted for 173 consecutive innings in international cricket (Tests + ODIs) without a duck between 2000 and 2004 – the longest sequence for any batsman without duck.\n",
    "Posted his highest Test score of 270 in the Rawalpindi Test, which gave India their first ever series win in Pakistan. It is also the longest ever innings played by an Indian in Test cricket.\n",
    "Became only the second batsman after Don Bradman to score double hundreds in three successive series by making 222 vs. New Zealand at Ahmedabad, 2003-04; 233 vs. Australia at Adelaide, 2003-04 and 270 vs. Pakistan at Rawalpindi, 2003-04.\n",
    "Awarded the ICC Player of the Year and the Test Player of the Year at the inaugural ICC award ceremony held in September.\n",
    "Became the first player to score a century in all Test-playing nations when he scored 160 against Bangladesh at Chittagong.\n",
    "Has twice scored hundreds in each innings of a Test – v New Zealand at Hamilton in 1998-99 and v Pakistan at Calcutta in 2004-05. He’s only the second Indian after Sunil Gavaskar to have performed the feat of scoring twin-tons more than once.\n",
    "Appointed captain of the Indian team.\n",
    "Became only the second Indian player to remain on the field throughout a complete Test match (v Pakistan at Lahore in 2005-06) after Sunil Gavaskar (vs West Indies at Georgetown in 1982-83).\n",
    "Led India to a Test-series win (1-0) in the West Indies after 35 years.\n",
    "Completed 10,000 ODI runs during an innings of 66 against Sri Lanka at Margao.\n",
    "Led India to a Test-series win in England (1-0) after 21 years.\n",
    "Became only the third Indian to carry his bat through an innings, scoring an unbeaten 146 out of 300 during The Oval Test.\n",
    "Retired from T20Is after a solitary appearance against England on August 31, 2011, during which he scored 31 runs.\n",
    "Played his last ODI against England on September 16, 2011, finishing as the seventh highest run-getter of all time with 10,889 runs at an average of 39.16 from 318 innings.\n",
    "Played his last Test against Australia at Adelaide between January 24 and 28, 2012 and finished as the second highest run-getter of all time with 13,288 runs at an average of 52.31 from 164 Test matches.\n",
    "\"\"\"\n",
    "year = \"\"\"\n",
    "1991\n",
    "1996\n",
    "1996\n",
    "1997\n",
    "1997\n",
    "1999\n",
    "1999\n",
    "1999\n",
    "2000\n",
    "2000\n",
    "2000\n",
    "2002\n",
    "2003\n",
    "2004\n",
    "2004\n",
    "2004\n",
    "2004\n",
    "2004\n",
    "2004\n",
    "2005\n",
    "2005\n",
    "2006\n",
    "2006\n",
    "2007\n",
    "2007\n",
    "2011\n",
    "2011\n",
    "2011\n",
    "2012\n",
    "\"\"\""
   ]
  }
 ],
 "metadata": {
  "kernelspec": {
   "display_name": "Python 3",
   "language": "python",
   "name": "python3"
  },
  "language_info": {
   "codemirror_mode": {
    "name": "ipython",
    "version": 3
   },
   "file_extension": ".py",
   "mimetype": "text/x-python",
   "name": "python",
   "nbconvert_exporter": "python",
   "pygments_lexer": "ipython3",
   "version": "3.7.3"
  },
  "toc": {
   "base_numbering": 1,
   "nav_menu": {},
   "number_sections": true,
   "sideBar": true,
   "skip_h1_title": false,
   "title_cell": "Table of Contents",
   "title_sidebar": "Contents",
   "toc_cell": false,
   "toc_position": {},
   "toc_section_display": true,
   "toc_window_display": false
  },
  "varInspector": {
   "cols": {
    "lenName": 16,
    "lenType": 16,
    "lenVar": 40
   },
   "kernels_config": {
    "python": {
     "delete_cmd_postfix": "",
     "delete_cmd_prefix": "del ",
     "library": "var_list.py",
     "varRefreshCmd": "print(var_dic_list())"
    },
    "r": {
     "delete_cmd_postfix": ") ",
     "delete_cmd_prefix": "rm(",
     "library": "var_list.r",
     "varRefreshCmd": "cat(var_dic_list()) "
    }
   },
   "types_to_exclude": [
    "module",
    "function",
    "builtin_function_or_method",
    "instance",
    "_Feature"
   ],
   "window_display": false
  }
 },
 "nbformat": 4,
 "nbformat_minor": 2
}
